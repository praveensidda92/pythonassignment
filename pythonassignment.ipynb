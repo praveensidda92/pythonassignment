{
 "cells": [
  {
   "cell_type": "code",
   "execution_count": 2,
   "id": "ef9c4dbd",
   "metadata": {},
   "outputs": [],
   "source": [
    "\n",
    "import pandas as pd\n",
    "#pandas library is very helpful for providing a appropriate data structure(DATA FRAMES), it helps to read,manipulate and write data in python."
   ]
  },
  {
   "cell_type": "code",
   "execution_count": 3,
   "id": "4e5065dd",
   "metadata": {},
   "outputs": [],
   "source": [
    "from shapely.geometry import Point\n",
    "#the shapely library is used to convert the latitude and longitude into a point."
   ]
  },
  {
   "cell_type": "code",
   "execution_count": 5,
   "id": "2ce3a79c",
   "metadata": {},
   "outputs": [],
   "source": [
    "from Levenshtein import distance\n",
    "#lavenshtein distance is used for measuring the similarity between the two strings."
   ]
  },
  {
   "cell_type": "code",
   "execution_count": 6,
   "id": "0b5eb5f7",
   "metadata": {},
   "outputs": [],
   "source": [
    "from geopy.distance import geodesic\n",
    "#geopy library is used to measure the distance between the given two points"
   ]
  },
  {
   "cell_type": "code",
   "execution_count": 7,
   "id": "11556aff",
   "metadata": {},
   "outputs": [],
   "source": [
    "df = pd.read_csv('assignment_data.csv',nrows=1500)\n",
    "#here we are creating a dataframe from the given csv file, here the rows taken is only 1500, since the file is having the large number of rows,and the computation time is very long."
   ]
  },
  {
   "cell_type": "code",
   "execution_count": 8,
   "id": "87dc79d1",
   "metadata": {},
   "outputs": [],
   "source": [
    "def checksimilarity(name1, name2):\n",
    "    return distance(name1.lower(), name2.lower()) <= 5\n",
    "#checksimilarity is a function which is defined to check the similarity between the given names, here we have used the lavenshtein distance to calculate if both the strings are similar or not."
   ]
  },
  {
   "cell_type": "code",
   "execution_count": 9,
   "id": "a8fc965b",
   "metadata": {},
   "outputs": [],
   "source": [
    "def checkdistance(point1, point2):\n",
    "    return geodesic((point1.y, point1.x), (point2.y, point2.x)).meters\n",
    "#checkdistance is a function which is used to calculate the distance between the given two points."
   ]
  },
  {
   "cell_type": "code",
   "execution_count": 10,
   "id": "545c0e4e",
   "metadata": {},
   "outputs": [],
   "source": [
    "df['is_similar'] = 0\n",
    "#adding the extra column to the data frame called \"is_similar\", by default the value is assigned as \"0\"."
   ]
  },
  {
   "cell_type": "code",
   "execution_count": 11,
   "id": "e1a9c65f",
   "metadata": {},
   "outputs": [],
   "source": [
    "for i in range(len(df)):\n",
    "    for j in range(i+1, len(df)):\n",
    "        if checkdistance(Point(df.loc[i, 'longitude'], df.loc[i, 'latitude']), Point(df.loc[j, 'longitude'], df.loc[j, 'latitude'])) <= 200 and checksimilarity(df.loc[i, 'name'], df.loc[j, 'name']):\n",
    "            df.loc[i, 'is_similar'] = 1\n",
    "            df.loc[j, 'is_similar'] = 1\n",
    "\n",
    "#here we will be checking for similarity and distance between the entries, if both the distance condition as well as similarity condition is ssatisfied, the we will assign the is_similarity to 1."
   ]
  },
  {
   "cell_type": "code",
   "execution_count": 12,
   "id": "c750ea77",
   "metadata": {},
   "outputs": [],
   "source": [
    "df.to_csv('finalresult.csv',index=False)\n",
    "#converting the dataframe into the finalresult.csv file, here we assigned the index=False, beccause if index=False is not assigned it is creating an extra column for the index, which is not expected in the output format provided."
   ]
  }
 ],
 "metadata": {
  "kernelspec": {
   "display_name": "Python 3",
   "language": "python",
   "name": "python3"
  },
  "language_info": {
   "codemirror_mode": {
    "name": "ipython",
    "version": 3
   },
   "file_extension": ".py",
   "mimetype": "text/x-python",
   "name": "python",
   "nbconvert_exporter": "python",
   "pygments_lexer": "ipython3",
   "version": "3.11.2"
  },
  "toc": {
   "base_numbering": 1,
   "nav_menu": {},
   "number_sections": true,
   "sideBar": true,
   "skip_h1_title": false,
   "title_cell": "Table of Contents",
   "title_sidebar": "Contents",
   "toc_cell": false,
   "toc_position": {},
   "toc_section_display": true,
   "toc_window_display": false
  },
  "vscode": {
   "interpreter": {
    "hash": "1682e5d06a6d97c1b1cf6bb4ae6cf16223e994936ddb1d53664597d7d46101fa"
   }
  }
 },
 "nbformat": 4,
 "nbformat_minor": 5
}
